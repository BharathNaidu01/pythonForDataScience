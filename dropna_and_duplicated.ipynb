{
 "cells": [
  {
   "cell_type": "code",
   "execution_count": 3,
   "metadata": {},
   "outputs": [],
   "source": [
    "import pandas as pd"
   ]
  },
  {
   "cell_type": "code",
   "execution_count": 4,
   "metadata": {},
   "outputs": [],
   "source": [
    "df = pd.read_csv(\"F:\\datasets\\country_vaccinations.csv\")"
   ]
  },
  {
   "cell_type": "code",
   "execution_count": 5,
   "metadata": {},
   "outputs": [
    {
     "name": "stdout",
     "output_type": "stream",
     "text": [
      "<class 'pandas.core.frame.DataFrame'>\n",
      "RangeIndex: 1323 entries, 0 to 1322\n",
      "Data columns (total 15 columns):\n",
      " #   Column                               Non-Null Count  Dtype  \n",
      "---  ------                               --------------  -----  \n",
      " 0   country                              1323 non-null   object \n",
      " 1   iso_code                             1170 non-null   object \n",
      " 2   date                                 1323 non-null   object \n",
      " 3   total_vaccinations                   873 non-null    float64\n",
      " 4   people_vaccinated                    842 non-null    float64\n",
      " 5   people_fully_vaccinated              198 non-null    float64\n",
      " 6   daily_vaccinations_raw               700 non-null    float64\n",
      " 7   daily_vaccinations                   1266 non-null   float64\n",
      " 8   total_vaccinations_per_hundred       873 non-null    float64\n",
      " 9   people_vaccinated_per_hundred        842 non-null    float64\n",
      " 10  people_fully_vaccinated_per_hundred  198 non-null    float64\n",
      " 11  daily_vaccinations_per_million       1266 non-null   float64\n",
      " 12  vaccines                             1323 non-null   object \n",
      " 13  source_name                          1323 non-null   object \n",
      " 14  source_website                       1323 non-null   object \n",
      "dtypes: float64(9), object(6)\n",
      "memory usage: 155.2+ KB\n"
     ]
    }
   ],
   "source": [
    "df.info()\n",
    "#the info will show the missing values "
   ]
  },
  {
   "cell_type": "markdown",
   "metadata": {},
   "source": [
    "#we can use dropna to remove the missing value rows in a dataframe.\n",
    "\n",
    "without_missing_values = df.dropna()"
   ]
  },
  {
   "cell_type": "code",
   "execution_count": 8,
   "metadata": {},
   "outputs": [
    {
     "data": {
      "text/plain": [
       "0       False\n",
       "1       False\n",
       "2       False\n",
       "3       False\n",
       "4       False\n",
       "        ...  \n",
       "1318    False\n",
       "1319    False\n",
       "1320    False\n",
       "1321    False\n",
       "1322    False\n",
       "Length: 1323, dtype: bool"
      ]
     },
     "execution_count": 8,
     "metadata": {},
     "output_type": "execute_result"
    }
   ],
   "source": [
    "#sometimes we have duplicated rows in our data. we have to check whether we have duplicated rows in the data or not.\n",
    "#if there is any duplication in the data, it will show as true.\n",
    "df.duplicated()"
   ]
  },
  {
   "cell_type": "code",
   "execution_count": null,
   "metadata": {},
   "outputs": [],
   "source": []
  }
 ],
 "metadata": {
  "kernelspec": {
   "display_name": "Python 3",
   "language": "python",
   "name": "python3"
  },
  "language_info": {
   "codemirror_mode": {
    "name": "ipython",
    "version": 3
   },
   "file_extension": ".py",
   "mimetype": "text/x-python",
   "name": "python",
   "nbconvert_exporter": "python",
   "pygments_lexer": "ipython3",
   "version": "3.8.5"
  }
 },
 "nbformat": 4,
 "nbformat_minor": 4
}
